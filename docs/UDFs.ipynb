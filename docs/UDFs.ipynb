{
 "metadata": {
  "language": "Julia",
  "name": "",
  "signature": "sha256:330817517b44e33145464e259df2a0cdd07da9b82248c31456a03ebb383dd6da"
 },
 "nbformat": 3,
 "nbformat_minor": 0,
 "worksheets": [
  {
   "cells": [
    {
     "cell_type": "heading",
     "level": 1,
     "metadata": {},
     "source": [
      "SQLite.jl Tutorial"
     ]
    },
    {
     "cell_type": "heading",
     "level": 2,
     "metadata": {},
     "source": [
      "User Defined Functions"
     ]
    },
    {
     "cell_type": "markdown",
     "metadata": {},
     "source": [
      "SQLite.jl provides a simple yet powerful way to add your own custom functions to SQLite, these functions can then be used in exactly the same way as [SQLite's own functions](http://sqlite.org/lang_corefunc.html). First, however, we will discuss a function which comes pre-defined with SQLite.jl; the `regexp` function."
     ]
    },
    {
     "cell_type": "heading",
     "level": 3,
     "metadata": {},
     "source": [
      "SQLite Regular Expressions"
     ]
    },
    {
     "cell_type": "markdown",
     "metadata": {},
     "source": [
      "SQLite provides a [special syntax](http://sqlite.org/lang_expr.html#regexp) for calling a `regexp` function from inside an `expression`. Unfortunately SQLite does not provide a default implementation of `regexp`. Instead SQLite.jl automatically defines the function when you open a database connection."
     ]
    },
    {
     "cell_type": "markdown",
     "metadata": {},
     "source": [
      "Examples in this tutorial assume that the [Chinook Database](http://chinookdatabase.codeplex.com/) has been loaded like so"
     ]
    },
    {
     "cell_type": "code",
     "collapsed": false,
     "input": [
      "using SQLite\n",
      "# assuming you are in the docs directory\n",
      "db = SQLiteDB(\"../test/Chinook_Sqlite.sqlite\")"
     ],
     "language": "python",
     "metadata": {},
     "outputs": [
      {
       "metadata": {},
       "output_type": "pyout",
       "prompt_number": 1,
       "text": [
        "SQLiteDB{UTF8String}(\"../test/Chinook_Sqlite.sqlite\",Ptr{Void} @0x0000000112d88310,0)"
       ]
      }
     ],
     "prompt_number": 1
    },
    {
     "cell_type": "markdown",
     "metadata": {},
     "source": [
      "The regular expressions are parsed and compiled by Julia and therefore follow PCRE syntax. The `regexp` function itself can be called in two ways, either by using SQLite's own syntax"
     ]
    },
    {
     "cell_type": "code",
     "collapsed": false,
     "input": [
      "query(db, \"SELECT FirstName, LastName FROM Employee WHERE LastName REGEXP 'e(?=a)'\")"
     ],
     "language": "python",
     "metadata": {},
     "outputs": [
      {
       "metadata": {},
       "output_type": "pyout",
       "prompt_number": 2,
       "text": [
        "1x2 ResultSet\n",
        "| Row | \"FirstName\" | \"LastName\" |\n",
        "|-----|-------------|------------|\n",
        "| 1   | \"Jane\"      | \"Peacock\"  |"
       ]
      }
     ],
     "prompt_number": 2
    },
    {
     "cell_type": "markdown",
     "metadata": {},
     "source": [
      "or by calling the function explicitly"
     ]
    },
    {
     "cell_type": "code",
     "collapsed": false,
     "input": [
      "query(db, \"SELECT * FROM Genre WHERE regexp('e[tr]', Name)\")"
     ],
     "language": "python",
     "metadata": {},
     "outputs": [
      {
       "metadata": {},
       "output_type": "pyout",
       "prompt_number": 3,
       "text": [
        "5x2 ResultSet\n",
        "| Row | \"GenreId\" | \"Name\"               |\n",
        "|-----|-----------|----------------------|\n",
        "| 1   | 3         | \"Metal\"              |\n",
        "| 2   | 4         | \"Alternative & Punk\" |\n",
        "| 3   | 13        | \"Heavy Metal\"        |\n",
        "| 4   | 23        | \"Alternative\"        |\n",
        "| 5   | 25        | \"Opera\"              |"
       ]
      }
     ],
     "prompt_number": 3
    },
    {
     "cell_type": "markdown",
     "metadata": {},
     "source": [
      "If you really want you can do weird and wonderful things by calling the function in other places."
     ]
    },
    {
     "cell_type": "code",
     "collapsed": false,
     "input": [
      "query(db, \"CREATE TEMPORARY TABLE temptable AS SELECT * FROM Genre\")\n",
      "query(db, \"SELECT * FROM temptable ORDER BY GenreId LIMIT 2\")"
     ],
     "language": "python",
     "metadata": {},
     "outputs": [
      {
       "metadata": {},
       "output_type": "pyout",
       "prompt_number": 4,
       "text": [
        "2x2 ResultSet\n",
        "| Row | \"GenreId\" | \"Name\" |\n",
        "|-----|-----------|--------|\n",
        "| 1   | 1         | \"Rock\" |\n",
        "| 2   | 2         | \"Jazz\" |"
       ]
      }
     ],
     "prompt_number": 4
    },
    {
     "cell_type": "code",
     "collapsed": false,
     "input": [
      "query(db, \"INSERT INTO temptable VALUES (regexp('^word', 'this is a string'), 'My Genre')\")\n",
      "query(db, \"SELECT * FROM temptable ORDER BY GenreId LIMIT 2\")"
     ],
     "language": "python",
     "metadata": {},
     "outputs": [
      {
       "metadata": {},
       "output_type": "pyout",
       "prompt_number": 5,
       "text": [
        "2x2 ResultSet\n",
        "| Row | \"GenreId\" | \"Name\"     |\n",
        "|-----|-----------|------------|\n",
        "| 1   | 0         | \"My Genre\" |\n",
        "| 2   | 1         | \"Rock\"     |"
       ]
      }
     ],
     "prompt_number": 5
    },
    {
     "cell_type": "heading",
     "level": 4,
     "metadata": {},
     "source": [
      "String Literal for Escaping Characters"
     ]
    },
    {
     "cell_type": "markdown",
     "metadata": {},
     "source": [
      "Due to the heavy use of backslashes and other special characters in regular expressions, SQLite.jl provides a macro for automatically escaping characters (I mean sticking backslashes before them not characters which automatically run away). The syntax for this is `sr\"...\"`, here's how it works"
     ]
    },
    {
     "cell_type": "code",
     "collapsed": false,
     "input": [
      "\"backslashes before non-special characters are lost: \\d\""
     ],
     "language": "python",
     "metadata": {},
     "outputs": [
      {
       "metadata": {},
       "output_type": "pyout",
       "prompt_number": 6,
       "text": [
        "\"backslashes before non-special characters are lost: d\""
       ]
      }
     ],
     "prompt_number": 6
    },
    {
     "cell_type": "code",
     "collapsed": false,
     "input": [
      "\"dollar signs which are not part of interpolation throw an error: $\""
     ],
     "language": "python",
     "metadata": {},
     "outputs": [
      {
       "ename": "LoadError",
       "evalue": "syntax: invalid interpolation syntax: \"\"\"\nwhile loading In[7], in expression starting on line 1",
       "output_type": "pyerr",
       "traceback": [
        "syntax: invalid interpolation syntax: \"\"\"\nwhile loading In[7], in expression starting on line 1",
        ""
       ]
      }
     ],
     "prompt_number": 7
    },
    {
     "cell_type": "markdown",
     "metadata": {},
     "source": [
      "But by prefixing the string with `sr` any special characters like the dollar sign or a backslash are preserved."
     ]
    },
    {
     "cell_type": "code",
     "collapsed": false,
     "input": [
      "sr\"dollar signs $ and backslashes \\d are preserved\""
     ],
     "language": "python",
     "metadata": {},
     "outputs": [
      {
       "metadata": {},
       "output_type": "pyout",
       "prompt_number": 8,
       "text": [
        "\"dollar signs \\$ and backslashes \\\\d are preserved\""
       ]
      }
     ],
     "prompt_number": 8
    },
    {
     "cell_type": "markdown",
     "metadata": {},
     "source": [
      "If you want to use string interpolation it is strongly recommended that you instead use parameter binding, it's much safer and simpler."
     ]
    },
    {
     "cell_type": "heading",
     "level": 2,
     "metadata": {},
     "source": [
      "Scalar Functions"
     ]
    },
    {
     "cell_type": "markdown",
     "metadata": {},
     "source": [
      "Internally SQLite functions fall into two main categories; [scalar functions](http://sqlite.org/lang_corefunc.html) and [aggregate functions](http://sqlite.org/lang_aggfunc.html) ([Date & Time functions](http://sqlite.org/lang_datefunc.html) are in fact a form of scalar function). Scalar functions are called once for each row and return once for each row, aggregate functions are also called once for each row but only return once the function has been called on all rows. Currently only scalar functions are supported by SQLite.jl."
     ]
    },
    {
     "cell_type": "markdown",
     "metadata": {},
     "source": [
      "To create a function in SQLite it must have a very specific signature and retrieve/return values in a special way (browse around the [docs](http://sqlite.org/c3ref/create_function.html) if you're interested in the specifics). SQLite.jl, however, abstracts all of this away from the user with the `register` macro and function. For simple functions (basically all functions unless you really know what you're doing) you should use the *macro* like so"
     ]
    },
    {
     "cell_type": "code",
     "collapsed": false,
     "input": [
      "# calling it on a block function definition\n",
      "@register db function addstuff(x, y)\n",
      "    1 + 2 + x + 4 + y\n",
      "end\n",
      "\n",
      "# calling it on an inline function definition\n",
      "@register db mult3(a) = 3 * a\n",
      "\n",
      "# calling it on a predefined function\n",
      "@register db sin"
     ],
     "language": "python",
     "metadata": {},
     "outputs": [
      {
       "metadata": {},
       "output_type": "pyout",
       "prompt_number": 9,
       "text": [
        "0"
       ]
      }
     ],
     "prompt_number": 9
    },
    {
     "cell_type": "code",
     "collapsed": false,
     "input": [
      "query(db, \"SELECT addstuff(3,5)\")"
     ],
     "language": "python",
     "metadata": {},
     "outputs": [
      {
       "metadata": {},
       "output_type": "pyout",
       "prompt_number": 10,
       "text": [
        "1x1 ResultSet\n",
        "| Row | \"addstuff(3,5)\" |\n",
        "|-----|-----------------|\n",
        "| 1   | 15              |"
       ]
      }
     ],
     "prompt_number": 10
    },
    {
     "cell_type": "code",
     "collapsed": false,
     "input": [
      "query(db, \"SELECT mult3(2)\")"
     ],
     "language": "python",
     "metadata": {},
     "outputs": [
      {
       "metadata": {},
       "output_type": "pyout",
       "prompt_number": 11,
       "text": [
        "1x1 ResultSet\n",
        "| Row | \"mult3(2)\" |\n",
        "|-----|------------|\n",
        "| 1   | 6          |"
       ]
      }
     ],
     "prompt_number": 11
    },
    {
     "cell_type": "code",
     "collapsed": false,
     "input": [
      "query(db, \"SELECT sin(?)\", [pi])"
     ],
     "language": "python",
     "metadata": {},
     "outputs": [
      {
       "metadata": {},
       "output_type": "pyout",
       "prompt_number": 12,
       "text": [
        "1x1 ResultSet\n",
        "| Row | \"sin(?)\"    |\n",
        "|-----|-------------|\n",
        "| 1   | 1.22465e-16 |"
       ]
      }
     ],
     "prompt_number": 12
    },
    {
     "cell_type": "markdown",
     "metadata": {},
     "source": [
      "The `register` *function* allows you to control the number of arguments and name of your SQLite function and also allows you to specify whether your function is stochastic (random) or deterministic (not random). Although these all sound like common problems, in practice they are used infrequently. Julia can perform multiple dispatch from within SQLite so you will only need to control the number of arguments in incredibly rare circumstances."
     ]
    },
    {
     "cell_type": "markdown",
     "metadata": {},
     "source": [
      "Occasionally you may wish to register a function which would overwrite a pre-existing SQLite function or has characters which SQLite does not allow, for this you must use the `name` argument of the `register` function."
     ]
    },
    {
     "cell_type": "code",
     "collapsed": false,
     "input": [
      "# hex is already defined in SQLite\n",
      "register(db, hex, name=\"julia_hex\")\n",
      "# + is a special symbol in SQLite (contrived example I know)\n",
      "register(db, +, name=\"julia_add\")"
     ],
     "language": "python",
     "metadata": {},
     "outputs": [
      {
       "metadata": {},
       "output_type": "pyout",
       "prompt_number": 13,
       "text": [
        "0"
       ]
      }
     ],
     "prompt_number": 13
    },
    {
     "cell_type": "code",
     "collapsed": false,
     "input": [
      "query(db, \"SELECT julia_hex(100)\")"
     ],
     "language": "python",
     "metadata": {},
     "outputs": [
      {
       "metadata": {},
       "output_type": "pyout",
       "prompt_number": 14,
       "text": [
        "1x1 ResultSet\n",
        "| Row | \"julia_hex(100)\" |\n",
        "|-----|------------------|\n",
        "| 1   | \"64\"             |"
       ]
      }
     ],
     "prompt_number": 14
    },
    {
     "cell_type": "code",
     "collapsed": false,
     "input": [
      "query(db, \"SELECT julia_add(1,2)\")"
     ],
     "language": "python",
     "metadata": {},
     "outputs": [
      {
       "metadata": {},
       "output_type": "pyout",
       "prompt_number": 15,
       "text": [
        "1x1 ResultSet\n",
        "| Row | \"julia_add(1,2)\" |\n",
        "|-----|------------------|\n",
        "| 1   | 3                |"
       ]
      }
     ],
     "prompt_number": 15
    },
    {
     "cell_type": "markdown",
     "metadata": {},
     "source": [
      "The other main use of the `register` function is when you write a function which has an element of randomness to it, i.e. if your function can be called twice with the same arguments and not be guaranteed to return the same result. In these cases the `isdeterm` argument should be set to `false`."
     ]
    },
    {
     "cell_type": "code",
     "collapsed": false,
     "input": [
      "randbyx(x) = x*rand()\n",
      "register(db, randbyx, isdeterm=false)\n",
      "query(db, \"SELECT randbyx(10)\")"
     ],
     "language": "python",
     "metadata": {},
     "outputs": [
      {
       "metadata": {},
       "output_type": "pyout",
       "prompt_number": 16,
       "text": [
        "1x1 ResultSet\n",
        "| Row | \"randbyx(10)\" |\n",
        "|-----|---------------|\n",
        "| 1   | 7.68699       |"
       ]
      }
     ],
     "prompt_number": 16
    },
    {
     "cell_type": "heading",
     "level": 3,
     "metadata": {},
     "source": [
      "Controlling Return Values"
     ]
    },
    {
     "cell_type": "markdown",
     "metadata": {},
     "source": [
      "When you register a function with a database SQLite.jl wraps that function such that the return value is passed to a method of `sqlreturn`. Methods are defined for return values of the julia types `NullType`, `Int32`, `Int64`, `Float64`, `UTF16String` and `AbstractString`. Values of these types will be stored in the database as the SQLite types `NULL`, `INT`, `REAL` and `TEXT`. By default values of any other type will be serialized and stored as a `BLOB`. However, there will likely be times when you have to return values which are not of one of those types.\n",
      "\n",
      "As an example consider the `regexp` function which was discussed earlier. This function was added to SQLite with three simple lines of code, the first two define the function and register it (the second is actually in the `SQLiteDB` constructor)"
     ]
    },
    {
     "cell_type": "code",
     "collapsed": false,
     "input": [
      "regexp(r, s) = ismatch(Regex(r), s)\n",
      "register(db, regexp)"
     ],
     "language": "python",
     "metadata": {},
     "outputs": [
      {
       "metadata": {},
       "output_type": "pyout",
       "prompt_number": 17,
       "text": [
        "0"
       ]
      }
     ],
     "prompt_number": 17
    },
    {
     "cell_type": "markdown",
     "metadata": {},
     "source": [
      "This function returns a `Bool`, however, and SQLite doesn't understand boolean values so we must define a new method for `sqlreturn`"
     ]
    },
    {
     "cell_type": "code",
     "collapsed": false,
     "input": [
      "sqlreturn(context, val::Bool) = sqlreturn(context, int(val))"
     ],
     "language": "python",
     "metadata": {},
     "outputs": [
      {
       "metadata": {},
       "output_type": "pyout",
       "prompt_number": 18,
       "text": [
        "sqlreturn (generic function with 1 method)"
       ]
      }
     ],
     "prompt_number": 18
    },
    {
     "cell_type": "markdown",
     "metadata": {},
     "source": [
      "Let us examine a simpler (albeit rather contrived) example, say we wish to store a random integer in the range `0:(typemax(Int64)^2)`. Furthermore let's say that, for one reason or another, we wish to be able to view this number from the SQLite CLI. Obviously this number is too big to be stored as an `INT` so instead let's store it as a string. We'll start afresh with a brand new database."
     ]
    },
    {
     "cell_type": "code",
     "collapsed": false,
     "input": [
      "db2 = SQLiteDB()"
     ],
     "language": "python",
     "metadata": {},
     "outputs": [
      {
       "metadata": {},
       "output_type": "pyout",
       "prompt_number": 19,
       "text": [
        "SQLiteDB{UTF8String}(\"\",Ptr{Void} @0x0000000112569800,0)"
       ]
      }
     ],
     "prompt_number": 19
    },
    {
     "cell_type": "markdown",
     "metadata": {},
     "source": [
      "First let's define a function that can perform this task"
     ]
    },
    {
     "cell_type": "code",
     "collapsed": false,
     "input": [
      "randbigint() = BigInt(rand(Int64))^2"
     ],
     "language": "python",
     "metadata": {},
     "outputs": [
      {
       "metadata": {},
       "output_type": "pyout",
       "prompt_number": 21,
       "text": [
        "randbigint (generic function with 1 method)"
       ]
      }
     ],
     "prompt_number": 21
    },
    {
     "cell_type": "markdown",
     "metadata": {},
     "source": [
      "Currently calling this function will return the serialized value as a `BLOB` but we want it to be stored as a string so we must define a new method for `sqlreturn`"
     ]
    },
    {
     "cell_type": "code",
     "collapsed": false,
     "input": [
      "sqlreturn(context, val::BigInt) = sqlreturn(context, string(val))"
     ],
     "language": "python",
     "metadata": {},
     "outputs": [
      {
       "metadata": {},
       "output_type": "pyout",
       "prompt_number": 22,
       "text": [
        "sqlreturn (generic function with 2 methods)"
       ]
      }
     ],
     "prompt_number": 22
    },
    {
     "cell_type": "markdown",
     "metadata": {},
     "source": [
      "Let's register it and test it out"
     ]
    },
    {
     "cell_type": "code",
     "collapsed": false,
     "input": [
      "register(db2, randbigint, isdeterm=false)\n",
      "query(db2, \"CREATE TABLE temp (s TEXT)\")\n",
      "for i in 1:10\n",
      "    query(db2, \"INSERT INTO temp VALUES (randbigint())\")\n",
      "end\n",
      "query(db2, \"SELECT * FROM temp\")"
     ],
     "language": "python",
     "metadata": {},
     "outputs": [
      {
       "metadata": {},
       "output_type": "pyout",
       "prompt_number": 24,
       "text": [
        "10x1 ResultSet\n",
        "| Row | \"s\"                                    |\n",
        "|-----|----------------------------------------|\n",
        "| 1   | 47122705687318031023979708499968415721 |\n",
        "| 2   | 48660029886133693640291969561574067209 |\n",
        "| 3   | 4824460262715007962455661564421308025  |\n",
        "| 4   | 5219344221113472157613609626139856324  |\n",
        "| 5   | 4931211197892610999503745789689376036  |\n",
        "| 6   | 13708515060466335030833700307266021481 |\n",
        "| 7   | 202122677462570357260748614631939601   |\n",
        "| 8   | 24962823588595905481517907885409502025 |\n",
        "| 9   | 3840494444675384389107677777309872900  |\n",
        "| 10  | 708373720618267302019872594675949041   |"
       ]
      }
     ],
     "prompt_number": 24
    },
    {
     "cell_type": "markdown",
     "metadata": {},
     "source": [
      "`sqlreturn` methods can be as long as they like but they must eventually convert their `val` argument to one of the types listed in the first paragraph and then call `sqlreturn` on that value."
     ]
    }
   ],
   "metadata": {}
  }
 ]
}