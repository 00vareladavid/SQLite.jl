{
 "metadata": {
  "language": "Julia",
  "name": "",
  "signature": "sha256:e094b3fd62c761522ab96ae427c155bee8d59af7465795ec4cc5033811a09297"
 },
 "nbformat": 3,
 "nbformat_minor": 0,
 "worksheets": [
  {
   "cells": [
    {
     "cell_type": "heading",
     "level": 1,
     "metadata": {},
     "source": [
      "Julia-SQLite Interface"
     ]
    },
    {
     "cell_type": "markdown",
     "metadata": {},
     "source": [
      "SQLite.jl provides a simple but powerful interface to the SQLite library. This tutorial will give you a brief overview of the API and key features but assumes a working knowledge of both Julia and SQL[ite].\n",
      "\n",
      "First things first we need to create a connection to a database, this is done by creating a `SQLiteDB` object"
     ]
    },
    {
     "cell_type": "code",
     "collapsed": false,
     "input": [
      "using SQLite\n",
      "\n",
      "# temporary on-disk database, you could also pass an empty string\n",
      "db = SQLiteDB()\n",
      "# temporary in-memory database\n",
      "inmem = SQLiteDB(\":memory:\")\n",
      "# permanent on-disk database, either new or existing\n",
      "ondisk = SQLiteDB(\"../test/Chinook_Sqlite.sqlite\")\n",
      "\n",
      "close(inmem)\n",
      "close(ondisk)\n",
      "\n",
      "# you can ignore this for now, we'll cover it in \"Parameter Binding\", for now you just need\n",
      "# to know that it needs to be defined before the first call to query\n",
      "Base.bind(stmt::SQLiteStmt, i::Int, val::Bool) = bind(stmt, i, int(val))"
     ],
     "language": "python",
     "metadata": {},
     "outputs": [
      {
       "metadata": {},
       "output_type": "pyout",
       "prompt_number": 1,
       "text": [
        "bind (generic function with 16 methods)"
       ]
      }
     ],
     "prompt_number": 1
    },
    {
     "cell_type": "markdown",
     "metadata": {},
     "source": [
      "You don't have to explicitly close your databases since they will be implicitly closed when the variable falls out of scope but if you're going to be opening several of them it's good practice to close them when you're done with them.\n",
      "\n",
      "Executing a query is as simple as a call to the `query` function"
     ]
    },
    {
     "cell_type": "code",
     "collapsed": false,
     "input": [
      "query(db, \"DROP TABLE IF EXISTS employee\")\n",
      "query(db, \"CREATE TABLE employee (employeeid INT, firstnm TEXT, lastnm TEXT, position TEXT)\")\n",
      "query(db, \"INSERT INTO employee VALUES (1, 'Billy Bob', 'Thornton', 'Manager')\")\n",
      "query(db, \"INSERT INTO employee VALUES (34, 'Simone', 'Plumber', 'Janitor')\")\n",
      "r = query(db, \"SELECT * FROM employee\")\n",
      "println(names(r))\n",
      "println(r.colnames)\n",
      "println(r.values)\n",
      "# retrieve full columns\n",
      "println(r[1])\n",
      "println(r[2])\n",
      "println(r[3])\n",
      "println(r[4])\n",
      "# retrieve individual values\n",
      "println(r[2][1])\n",
      "println(r[4][2])\n",
      "# print the full ResultSet\n",
      "println(r)"
     ],
     "language": "python",
     "metadata": {},
     "outputs": [
      {
       "output_type": "stream",
       "stream": "stdout",
       "text": [
        "[:"
       ]
      },
      {
       "output_type": "stream",
       "stream": "stdout",
       "text": [
        "colnames,:values]\n",
        "AbstractString"
       ]
      },
      {
       "output_type": "stream",
       "stream": "stdout",
       "text": [
        "[\"employeeid\",\"firstnm\",\"lastnm\",\"position\"]\n",
        "Any"
       ]
      },
      {
       "output_type": "stream",
       "stream": "stdout",
       "text": [
        "[Any[1,34],Any[\"Billy Bob\",\"Simone\"],Any[\"Thornton\",\"Plumber\"],Any[\"Manager\",\"Janitor\"]]\n",
        "Any[1,34]\n",
        "Any[\"Billy Bob\",\"Simone\"]\n",
        "Any[\"Thornton\",\"Plumber\"]\n",
        "Any[\"Manager\",\"Janitor\"]\n",
        "Billy Bob\n",
        "Janitor\n",
        "2x4 ResultSet"
       ]
      },
      {
       "output_type": "stream",
       "stream": "stdout",
       "text": [
        "\n",
        "| Row | \"employeeid\" | \"firstnm\"   | \"lastnm\"   | \"position\" |\n",
        "|-----|--------------|-------------|------------|------------|\n",
        "| 1   | 1            | \"Billy Bob\" | \"Thornton\" | \"Manager\"  |\n",
        "| 2   | 34           | \"Simone\"    | \"Plumber\"  | \"Janitor\"  |\n"
       ]
      }
     ],
     "prompt_number": 2
    },
    {
     "cell_type": "markdown",
     "metadata": {},
     "source": [
      "As you can see query returns a `ResultSet` object which contains the fields `colnames` and `values`. `values` contains an array of the columns that are returned, therefore `r.values[n]` retrieves the `n`th column from the results. `r[n]` is a covenience syntax for `r.values[n]`.\n",
      "\n",
      "Note that `query` will only execute one statement at a time, incidentally meaning that SQLite.jl is impervise to the famous [\"Little Bobby Tables\"](http://xkcd.com/327/) attack. This **DOES NOT** mean you are allowed to use string interpolation, however, because you will still be vulnerable to [other SQL injections](http://www.unixwiz.net/techtips/sql-injection.html). Plus paramater binding in SQLite.jl is much more awesome than string interpolation.\n",
      "\n",
      "SQLite.jl provides two convenience functions for inserting large amounts of data into a table, they are `create` and `append`. `append` inserts a matrix into the given table"
     ]
    },
    {
     "cell_type": "code",
     "collapsed": false,
     "input": [
      "append(\n",
      "    db, \"employee\",\n",
      "    [23 \"James Neil Edmund\" \"Krikket\" \"Receptionist\";\n",
      "     76 \"Nellie\"            \"Crystal\" \"CEO\"]\n",
      ")\n",
      "query(db, \"SELECT * FROM employee\")"
     ],
     "language": "python",
     "metadata": {},
     "outputs": [
      {
       "metadata": {},
       "output_type": "pyout",
       "prompt_number": 3,
       "text": [
        "4x4 ResultSet\n",
        "| Row | \"employeeid\" | \"firstnm\"           | \"lastnm\"   | \"position\"     |\n",
        "|-----|--------------|---------------------|------------|----------------|\n",
        "| 1   | 1            | \"Billy Bob\"         | \"Thornton\" | \"Manager\"      |\n",
        "| 2   | 34           | \"Simone\"            | \"Plumber\"  | \"Janitor\"      |\n",
        "| 3   | 23           | \"James Neil Edmund\" | \"Krikket\"  | \"Receptionist\" |\n",
        "| 4   | 76           | \"Nellie\"            | \"Crystal\"  | \"CEO\"          |"
       ]
      }
     ],
     "prompt_number": 3
    },
    {
     "cell_type": "markdown",
     "metadata": {},
     "source": [
      "`create`, strangely enough, creates a brand new table and populates it with the values in a matrix. You can optionally specify the column names and types."
     ]
    },
    {
     "cell_type": "code",
     "collapsed": false,
     "input": [
      "create(\n",
      "    db, \"position\",\n",
      "    [1  \"Manager\" 1;\n",
      "     56 \"Janitor\" 34;\n",
      "     78 \"Lawyer\"  NULL],\n",
      "    [\"positionid\", \"title\", \"employeeid\"],\n",
      "    [Int, AbstractString, Int]\n",
      ")\n",
      "query(db, \"SELECT * FROM position\")"
     ],
     "language": "python",
     "metadata": {},
     "outputs": [
      {
       "metadata": {},
       "output_type": "pyout",
       "prompt_number": 4,
       "text": [
        "3x3 ResultSet\n",
        "| Row | \"positionid\" | \"title\"   | \"employeeid\" |\n",
        "|-----|--------------|-----------|--------------|\n",
        "| 1   | 1            | \"Manager\" | 1            |\n",
        "| 2   | 56           | \"Janitor\" | 34           |\n",
        "| 3   | 78           | \"Lawyer\"  | NULL         |"
       ]
      }
     ],
     "prompt_number": 4
    },
    {
     "cell_type": "markdown",
     "metadata": {},
     "source": [
      "`NULL`, used above, is the singleton instance of `NullType`. It is used to refer to SQLite's own Null Type, `NULL`.\n",
      "\n",
      "SQLite.jl also exports the `drop` and `tables` functions."
     ]
    },
    {
     "cell_type": "code",
     "collapsed": false,
     "input": [
      "tables(db)"
     ],
     "language": "python",
     "metadata": {},
     "outputs": [
      {
       "metadata": {},
       "output_type": "pyout",
       "prompt_number": 5,
       "text": [
        "3x1 ResultSet\n",
        "| Row | \"name\"         |\n",
        "|-----|----------------|\n",
        "| 1   | \"employee\"     |\n",
        "| 2   | \"sqlite_stat1\" |\n",
        "| 3   | \"position\"     |"
       ]
      }
     ],
     "prompt_number": 5
    },
    {
     "cell_type": "code",
     "collapsed": false,
     "input": [
      "drop(db, \"position\")\n",
      "tables(db)"
     ],
     "language": "python",
     "metadata": {},
     "outputs": [
      {
       "metadata": {},
       "output_type": "pyout",
       "prompt_number": 6,
       "text": [
        "2x1 ResultSet\n",
        "| Row | \"name\"         |\n",
        "|-----|----------------|\n",
        "| 1   | \"employee\"     |\n",
        "| 2   | \"sqlite_stat1\" |"
       ]
      }
     ],
     "prompt_number": 6
    },
    {
     "cell_type": "heading",
     "level": 2,
     "metadata": {},
     "source": [
      "Transactions"
     ]
    },
    {
     "cell_type": "markdown",
     "metadata": {},
     "source": [
      "Unlike some DBIs, SQLite.jl does not hide transactions from the user. On the one hand this means that the user knows exactly where they stand when it comes to transactions, if they haven't started one they aren't in one. On the other hand it means that queries are not guaranteed to be performed within transactions which can be dangerous, especially when performing write operations.\n",
      "\n",
      "SQLite.jl exports three transaction functions `transaction`, `commit` and `rollback`. When passed a `SQLiteDB` only they start, end and rollback a *transaction*. You can also pass them a second argument in in which case they will act on a savepoint of that name. If the second argument to `transaction` is one of `\"DEFERRED\"`, `\"IMMEDIATE\"`, `\"EXCLUSIVE\"` or an empty string then a transaction of that type will be started.\n",
      "\n",
      "The `transaction` function also supports `do` block syntax. This sets a savepoint, rolls back on error and releases at the end. Since it uses savepoints you can nest your own transactions within it."
     ]
    },
    {
     "cell_type": "code",
     "collapsed": false,
     "input": [
      "# change this once transaction functions are exported\n",
      "SQLite.transaction(db) do\n",
      "    query(db, \"INSERT INTO employee VALUES (15, 'Harry', 'Back', 'Technician')\")\n",
      "    query(db, \"UPDATE employee SET employeeid = ? WHERE employeeid = 15\", [sqrt(-1)])\n",
      "end"
     ],
     "language": "python",
     "metadata": {},
     "outputs": [
      {
       "ename": "LoadError",
       "evalue": "DomainError\nwhile loading In[7], in expression starting on line 2",
       "output_type": "pyerr",
       "traceback": [
        "DomainError\nwhile loading In[7], in expression starting on line 2",
        "",
        " in sqrt at math.jl:132",
        " in anonymous at In[7]:4",
        " in transaction at /Users/seanmarshallsay/.julia/v0.4/SQLite/src/SQLite.jl:241"
       ]
      }
     ],
     "prompt_number": 7
    },
    {
     "cell_type": "markdown",
     "metadata": {},
     "source": [
      "As you can see this still throws the error allowing you to decide yourself how these cases should be handled. However if we dump the table we will see that Harry Back was never added to it in the first place."
     ]
    },
    {
     "cell_type": "code",
     "collapsed": false,
     "input": [
      "query(db, \"SELECT * FROM employee\")"
     ],
     "language": "python",
     "metadata": {},
     "outputs": [
      {
       "metadata": {},
       "output_type": "pyout",
       "prompt_number": 8,
       "text": [
        "4x4 ResultSet\n",
        "| Row | \"employeeid\" | \"firstnm\"           | \"lastnm\"   | \"position\"     |\n",
        "|-----|--------------|---------------------|------------|----------------|\n",
        "| 1   | 1            | \"Billy Bob\"         | \"Thornton\" | \"Manager\"      |\n",
        "| 2   | 34           | \"Simone\"            | \"Plumber\"  | \"Janitor\"      |\n",
        "| 3   | 23           | \"James Neil Edmund\" | \"Krikket\"  | \"Receptionist\" |\n",
        "| 4   | 76           | \"Nellie\"            | \"Crystal\"  | \"CEO\"          |"
       ]
      }
     ],
     "prompt_number": 8
    },
    {
     "cell_type": "heading",
     "level": 2,
     "metadata": {},
     "source": [
      "Parameter Binding"
     ]
    },
    {
     "cell_type": "markdown",
     "metadata": {},
     "source": [
      "As mentioned earlier; string interpolation is dangerous and parameter binding is awesome. Not only does parameter binding help protect you against sinister or careless users, it also allows you to store arbitrary types the way you want them to be stored. SQLite.jl supports both nameless and named parameters by passing either a `Vector` or `Dict{Symbol, T}` to `query`, where `T` is an arbitrary type."
     ]
    },
    {
     "cell_type": "heading",
     "level": 3,
     "metadata": {},
     "source": [
      "Nameless Parameters"
     ]
    },
    {
     "cell_type": "markdown",
     "metadata": {},
     "source": [
      "Nameless placeholders are specified using `?` or `?N`, where `N` is an integer coressponding to a valid index for the `Vector`."
     ]
    },
    {
     "cell_type": "code",
     "collapsed": false,
     "input": [
      "query(db, \"INSERT INTO employee VALUES (?, ?, ?, ?)\", [103, \"Dwayne\", \"Pipe\", \"Chimney Sweep\"])\n",
      "query(db, \"INSERT INTO employee VALUES (?3, ?2, ?4, ?1)\", [\"Lawyer\", \"William\", 136, \"Head\"])\n",
      "# you can bind wherever an expression is expected\n",
      "query(db, \"SELECT * FROM employee WHERE 1 = ?\", [1])"
     ],
     "language": "python",
     "metadata": {},
     "outputs": [
      {
       "metadata": {},
       "output_type": "pyout",
       "prompt_number": 9,
       "text": [
        "6x4 ResultSet\n",
        "| Row | \"employeeid\" | \"firstnm\"           | \"lastnm\"   | \"position\"      |\n",
        "|-----|--------------|---------------------|------------|-----------------|\n",
        "| 1   | 1            | \"Billy Bob\"         | \"Thornton\" | \"Manager\"       |\n",
        "| 2   | 34           | \"Simone\"            | \"Plumber\"  | \"Janitor\"       |\n",
        "| 3   | 23           | \"James Neil Edmund\" | \"Krikket\"  | \"Receptionist\"  |\n",
        "| 4   | 76           | \"Nellie\"            | \"Crystal\"  | \"CEO\"           |\n",
        "| 5   | 103          | \"Dwayne\"            | \"Pipe\"     | \"Chimney Sweep\" |\n",
        "| 6   | 136          | \"William\"           | \"Head\"     | \"Lawyer\"        |"
       ]
      }
     ],
     "prompt_number": 9
    },
    {
     "cell_type": "heading",
     "level": 3,
     "metadata": {},
     "source": [
      "Named Parameters"
     ]
    },
    {
     "cell_type": "markdown",
     "metadata": {},
     "source": [
      "Named placeholders are specified using `:AAA`, where `AAA` is the identifier name."
     ]
    },
    {
     "cell_type": "code",
     "collapsed": false,
     "input": [
      "d = Dict(:eid => 244, :fnm => \"Alistair\", :lnm => \"Fresco\", :pos => \"Cook\")\n",
      "# the dictionary must map Symbols to something\n",
      "println(typeof(d))\n",
      "query(db, \"INSERT INTO employee VALUES (:eid, :fnm, :lnm, :pos)\", d)\n",
      "query(db, \"SELECT * FROM employee\")"
     ],
     "language": "python",
     "metadata": {},
     "outputs": [
      {
       "output_type": "stream",
       "stream": "stdout",
       "text": [
        "Dict{"
       ]
      },
      {
       "output_type": "stream",
       "stream": "stdout",
       "text": [
        "Symbol,Any}\n"
       ]
      },
      {
       "metadata": {},
       "output_type": "pyout",
       "prompt_number": 10,
       "text": [
        "7x4 ResultSet\n",
        "| Row | \"employeeid\" | \"firstnm\"           | \"lastnm\"   | \"position\"      |\n",
        "|-----|--------------|---------------------|------------|-----------------|\n",
        "| 1   | 1            | \"Billy Bob\"         | \"Thornton\" | \"Manager\"       |\n",
        "| 2   | 34           | \"Simone\"            | \"Plumber\"  | \"Janitor\"       |\n",
        "| 3   | 23           | \"James Neil Edmund\" | \"Krikket\"  | \"Receptionist\"  |\n",
        "| 4   | 76           | \"Nellie\"            | \"Crystal\"  | \"CEO\"           |\n",
        "| 5   | 103          | \"Dwayne\"            | \"Pipe\"     | \"Chimney Sweep\" |\n",
        "| 6   | 136          | \"William\"           | \"Head\"     | \"Lawyer\"        |\n",
        "| 7   | 244          | \"Alistair\"          | \"Fresco\"   | \"Cook\"          |"
       ]
      }
     ],
     "prompt_number": 10
    },
    {
     "cell_type": "heading",
     "level": 3,
     "metadata": {},
     "source": [
      "Binding Other Types"
     ]
    },
    {
     "cell_type": "markdown",
     "metadata": {},
     "source": [
      "By default SQLite.jl binds the types `NullType`, `Int64`, `Float64`, `AbstractString` and `Vector{UInt8}` natively as `NULL`, `INT`, `REAL`, `TEXT` and `BLOB` respectively. You can also bind `Int32` natively as `INT` and `UTF16String` natively as `TEXT`. Natively in this context means that the Julia type maps directly to the SQLite type.\n",
      "\n",
      "However this doesn't mean that any other types will be changed or any information will be lost when storing them, SQLite.jl uses a special mechanism to store arbitrary types losslessly."
     ]
    },
    {
     "cell_type": "code",
     "collapsed": false,
     "input": [
      "b = big(678)\n",
      "# technically b will be stored as a BLOB but SQLite's\n",
      "# manifest typing alows to to declare the column as INT\n",
      "query(db, \"CREATE TABLE IF NOT EXISTS large (i INT)\")\n",
      "\n",
      "println(typeof(b))\n",
      "query(db, \"INSERT INTO large VALUES (?)\", [b])\n",
      "r = query(db, \"SELECT * FROM large\")[1][1]\n",
      "println(typeof(r))\n",
      "\n",
      "r == b"
     ],
     "language": "python",
     "metadata": {},
     "outputs": [
      {
       "output_type": "stream",
       "stream": "stdout",
       "text": [
        "BigInt\n"
       ]
      },
      {
       "output_type": "stream",
       "stream": "stdout",
       "text": [
        "BigInt"
       ]
      },
      {
       "output_type": "stream",
       "stream": "stdout",
       "text": [
        "\n"
       ]
      },
      {
       "metadata": {},
       "output_type": "pyout",
       "prompt_number": 11,
       "text": [
        "true"
       ]
      }
     ],
     "prompt_number": 11
    },
    {
     "cell_type": "markdown",
     "metadata": {},
     "source": [
      "But what if you don't want your object to be stored as a BLOB? Let us take as an example boolean values. SQLite does not have a boolean type, instead it uses ones and zeros to represent `true` and `false` respectively. This allows you to do things like this (excuse the contrived example)"
     ]
    },
    {
     "cell_type": "code",
     "collapsed": false,
     "input": [
      "query(db, \"SELECT * FROM employee WHERE ?\", [1])"
     ],
     "language": "python",
     "metadata": {},
     "outputs": [
      {
       "metadata": {},
       "output_type": "pyout",
       "prompt_number": 12,
       "text": [
        "7x4 ResultSet\n",
        "| Row | \"employeeid\" | \"firstnm\"           | \"lastnm\"   | \"position\"      |\n",
        "|-----|--------------|---------------------|------------|-----------------|\n",
        "| 1   | 1            | \"Billy Bob\"         | \"Thornton\" | \"Manager\"       |\n",
        "| 2   | 34           | \"Simone\"            | \"Plumber\"  | \"Janitor\"       |\n",
        "| 3   | 23           | \"James Neil Edmund\" | \"Krikket\"  | \"Receptionist\"  |\n",
        "| 4   | 76           | \"Nellie\"            | \"Crystal\"  | \"CEO\"           |\n",
        "| 5   | 103          | \"Dwayne\"            | \"Pipe\"     | \"Chimney Sweep\" |\n",
        "| 6   | 136          | \"William\"           | \"Head\"     | \"Lawyer\"        |\n",
        "| 7   | 244          | \"Alistair\"          | \"Fresco\"   | \"Cook\"          |"
       ]
      }
     ],
     "prompt_number": 12
    },
    {
     "cell_type": "markdown",
     "metadata": {},
     "source": [
      "Remember that mysterious `bind` method we defined in `In [1]`? That allows us to do the same thing but by using `true` instead of `1`."
     ]
    },
    {
     "cell_type": "code",
     "collapsed": false,
     "input": [
      "query(db, \"SELECT * FROM employee WHERE ?\", [true])"
     ],
     "language": "python",
     "metadata": {},
     "outputs": [
      {
       "metadata": {},
       "output_type": "pyout",
       "prompt_number": 14,
       "text": [
        "7x4 ResultSet\n",
        "| Row | \"employeeid\" | \"firstnm\"           | \"lastnm\"   | \"position\"      |\n",
        "|-----|--------------|---------------------|------------|-----------------|\n",
        "| 1   | 1            | \"Billy Bob\"         | \"Thornton\" | \"Manager\"       |\n",
        "| 2   | 34           | \"Simone\"            | \"Plumber\"  | \"Janitor\"       |\n",
        "| 3   | 23           | \"James Neil Edmund\" | \"Krikket\"  | \"Receptionist\"  |\n",
        "| 4   | 76           | \"Nellie\"            | \"Crystal\"  | \"CEO\"           |\n",
        "| 5   | 103          | \"Dwayne\"            | \"Pipe\"     | \"Chimney Sweep\" |\n",
        "| 6   | 136          | \"William\"           | \"Head\"     | \"Lawyer\"        |\n",
        "| 7   | 244          | \"Alistair\"          | \"Fresco\"   | \"Cook\"          |"
       ]
      }
     ],
     "prompt_number": 14
    },
    {
     "cell_type": "markdown",
     "metadata": {},
     "source": [
      "You can define any `bind` method you want as long as you don't override any of the following type signatures.\n",
      "\n",
      "    bind(stmt::SQLiteStmt, i::Int, ::NullType)\n",
      "    bind(stmt::SQLiteStmt, i::Int, val::Int32)\n",
      "    bind(stmt::SQLiteStmt, i::Int, val::Int64)\n",
      "    bind(stmt::SQLiteStmt, i::Int, val::Float64)\n",
      "    bind(stmt::SQLiteStmt, i::Int, val::AbstractString)\n",
      "    bind(stmt::SQLiteStmt, i::Int, val::UTF16String)\n",
      "    bind(stmt::SQLiteStmt, i::Int, val::Vector{UInt8})\n",
      "\n",
      "When you define your own `bind` method it must have the type signature\n",
      "\n",
      "    bind(stmt::SQLiteStmt, i::Int, val::T)\n",
      "\n",
      "where `T` is an arbitrary type not listed above. The method can then do whatever it wants but the last thing it does must be to call one of the above `bind` methods."
     ]
    }
   ],
   "metadata": {}
  }
 ]
}