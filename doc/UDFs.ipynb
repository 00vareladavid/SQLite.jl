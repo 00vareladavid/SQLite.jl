{
 "metadata": {
  "language": "Julia",
  "name": "",
  "signature": "sha256:649a83895752431c9e7cad040be513a2f3c10eb6883e295376624da65b6e9261"
 },
 "nbformat": 3,
 "nbformat_minor": 0,
 "worksheets": [
  {
   "cells": [
    {
     "cell_type": "heading",
     "level": 1,
     "metadata": {},
     "source": [
      "SQLite.jl Tutorial"
     ]
    },
    {
     "cell_type": "heading",
     "level": 2,
     "metadata": {},
     "source": [
      "User Defined Functions"
     ]
    },
    {
     "cell_type": "markdown",
     "metadata": {},
     "source": [
      "SQLite.jl provides a simple yet powerful way to add your own custom functions to SQLite, these functions can then be used in exactly the same way as [SQLite's own functions](http://sqlite.org/lang_corefunc.html). First, however, we will discuss a function which comes pre-defined with SQLite.jl; the `regexp` function."
     ]
    },
    {
     "cell_type": "heading",
     "level": 3,
     "metadata": {},
     "source": [
      "SQLite Regular Expressions"
     ]
    },
    {
     "cell_type": "markdown",
     "metadata": {},
     "source": [
      "SQLite provides a [special syntax](http://sqlite.org/lang_expr.html#regexp) for calling a `regexp` function from inside an `expression`. Unfortunately SQLite does not provide a default implementation of `regexp`. Instead SQLite.jl automatically defines the function when you open a database connection."
     ]
    },
    {
     "cell_type": "markdown",
     "metadata": {},
     "source": [
      "Examples in this tutorial assume that the [Chinook Database](http://chinookdatabase.codeplex.com/) has been loaded like so"
     ]
    },
    {
     "cell_type": "code",
     "collapsed": false,
     "input": [
      "using SQLite\n",
      "# assuming you are in the doc directory\n",
      "db = SQLiteDB(\"../test/Chinook_Sqlite.sqlite\")"
     ],
     "language": "python",
     "metadata": {},
     "outputs": [
      {
       "output_type": "stream",
       "stream": "stderr",
       "text": [
        "\n",
        "WARNING: deprecated syntax \"[a=>b, ...]\" at /Users/sean/.julia/v0.4/IJulia/src/inline.jl:23.\n",
        "Use \"Dict(a=>b, ...)\" instead.\n"
       ]
      },
      {
       "metadata": {},
       "output_type": "pyout",
       "prompt_number": 1,
       "text": [
        "SQLite.SQLiteDB{UTF8String}(\"../test/Chinook_Sqlite.sqlite\",Ptr{Void} @0x00007fdfd69c1640,0)"
       ]
      }
     ],
     "prompt_number": 1
    },
    {
     "cell_type": "markdown",
     "metadata": {},
     "source": [
      "The regular expressions are parsed and compiled by Julia and therefore follow PCRE syntax. The `regexp` function itself can be called in two ways, either by using SQLite's own syntax"
     ]
    },
    {
     "cell_type": "code",
     "collapsed": false,
     "input": [
      "query(db, \"SELECT FirstName, LastName FROM Employee WHERE LastName REGEXP 'e(?=a)'\")"
     ],
     "language": "python",
     "metadata": {},
     "outputs": [
      {
       "metadata": {},
       "output_type": "pyout",
       "prompt_number": 2,
       "text": [
        "1x2 SQLite.ResultSet\n",
        "| Row | \"FirstName\" | \"LastName\" |\n",
        "|-----|-------------|------------|\n",
        "| 1   | \"Jane\"      | \"Peacock\"  |"
       ]
      }
     ],
     "prompt_number": 2
    },
    {
     "cell_type": "markdown",
     "metadata": {},
     "source": [
      "or by calling the function explicitly"
     ]
    },
    {
     "cell_type": "code",
     "collapsed": false,
     "input": [
      "query(db, \"SELECT * FROM Genre WHERE regexp('e[tr]', Name)\")"
     ],
     "language": "python",
     "metadata": {},
     "outputs": [
      {
       "metadata": {},
       "output_type": "pyout",
       "prompt_number": 3,
       "text": [
        "5x2 SQLite.ResultSet\n",
        "| Row | \"GenreId\" | \"Name\"               |\n",
        "|-----|-----------|----------------------|\n",
        "| 1   | 3         | \"Metal\"              |\n",
        "| 2   | 4         | \"Alternative & Punk\" |\n",
        "| 3   | 13        | \"Heavy Metal\"        |\n",
        "| 4   | 23        | \"Alternative\"        |\n",
        "| 5   | 25        | \"Opera\"              |"
       ]
      }
     ],
     "prompt_number": 3
    },
    {
     "cell_type": "heading",
     "level": 4,
     "metadata": {},
     "source": [
      "String Literal for Escaping Characters"
     ]
    },
    {
     "cell_type": "markdown",
     "metadata": {},
     "source": [
      "Due to the heavy use of backslashes and other special characters in regular expressions, SQLite.jl provides a macro for automatically escaping characters (I mean sticking backslashes before them not characters which automatically run away). The syntax for this is `sr\"...\"`, here's how it works"
     ]
    },
    {
     "cell_type": "code",
     "collapsed": false,
     "input": [
      "\"backslashes before non-special characters are lost: \\d\""
     ],
     "language": "python",
     "metadata": {},
     "outputs": [
      {
       "metadata": {},
       "output_type": "pyout",
       "prompt_number": 4,
       "text": [
        "\"backslashes before non-special characters are lost: d\""
       ]
      }
     ],
     "prompt_number": 4
    },
    {
     "cell_type": "code",
     "collapsed": false,
     "input": [
      "\"dollar signs which are not part of interpolation throw an error: $\""
     ],
     "language": "python",
     "metadata": {},
     "outputs": [
      {
       "ename": "LoadError",
       "evalue": "syntax: invalid interpolation syntax: \"\"\"\nwhile loading In[5], in expression starting on line 1",
       "output_type": "pyerr",
       "traceback": [
        "syntax: invalid interpolation syntax: \"\"\"\nwhile loading In[5], in expression starting on line 1",
        ""
       ]
      }
     ],
     "prompt_number": 5
    },
    {
     "cell_type": "markdown",
     "metadata": {},
     "source": [
      "But by prefixing the string with `sr` any special characters like the dollar sign or a backslash are preserved."
     ]
    },
    {
     "cell_type": "code",
     "collapsed": false,
     "input": [
      "sr\"dollar signs $ and backslashes \\d are preserved\""
     ],
     "language": "python",
     "metadata": {},
     "outputs": [
      {
       "metadata": {},
       "output_type": "pyout",
       "prompt_number": 6,
       "text": [
        "\"dollar signs \\$ and backslashes \\\\d are preserved\""
       ]
      }
     ],
     "prompt_number": 6
    },
    {
     "cell_type": "markdown",
     "metadata": {},
     "source": [
      "If you want to use string interpolation it is strongly recommended that you instead use parameter binding, it's much safer and simpler."
     ]
    },
    {
     "cell_type": "heading",
     "level": 2,
     "metadata": {},
     "source": [
      "Scalar Functions"
     ]
    },
    {
     "cell_type": "markdown",
     "metadata": {},
     "source": [
      "Internally SQLite functions fall into two main categories; [scalar functions](http://sqlite.org/lang_corefunc.html) and [aggregate functions](http://sqlite.org/lang_aggfunc.html) ([Date & Time functions](http://sqlite.org/lang_datefunc.html) are in fact a form of scalar function). Scalar functions are called once for each row and return once for each row, aggregate functions are also called once for each row but only return once the function has been called on all rows."
     ]
    },
    {
     "cell_type": "markdown",
     "metadata": {},
     "source": [
      "To create a function in SQLite it must have a very specific signature and retrieve/return values in a special way (browse around the [docs](http://sqlite.org/c3ref/create_function.html) if you're interested in the specifics). SQLite.jl, however, abstracts all of this away from the user with the `register` macro and function. For simple functions (basically all functions unless you really know what you're doing) you should use the *macro* like so"
     ]
    },
    {
     "cell_type": "code",
     "collapsed": false,
     "input": [
      "# calling it on a block function definition\n",
      "@register db function addstuff(x, y)\n",
      "    1 + 2 + x + 4 + y\n",
      "end\n",
      "\n",
      "# calling it on an inline function definition\n",
      "@register db mult3(a) = 3 * a\n",
      "\n",
      "# calling it on a predefined function\n",
      "@register db sin"
     ],
     "language": "python",
     "metadata": {},
     "outputs": [
      {
       "metadata": {},
       "output_type": "pyout",
       "prompt_number": 7,
       "text": [
        "0"
       ]
      }
     ],
     "prompt_number": 7
    },
    {
     "cell_type": "code",
     "collapsed": false,
     "input": [
      "query(db, \"SELECT addstuff(3,5)\")"
     ],
     "language": "python",
     "metadata": {},
     "outputs": [
      {
       "metadata": {},
       "output_type": "pyout",
       "prompt_number": 8,
       "text": [
        "1x1 SQLite.ResultSet\n",
        "| Row | \"addstuff(3,5)\" |\n",
        "|-----|-----------------|\n",
        "| 1   | 15              |"
       ]
      }
     ],
     "prompt_number": 8
    },
    {
     "cell_type": "markdown",
     "metadata": {},
     "source": [
      "query(db, \"SELECT mult3(2)\")"
     ]
    },
    {
     "cell_type": "code",
     "collapsed": false,
     "input": [
      "query(db, \"SELECT sin(?)\", [pi])"
     ],
     "language": "python",
     "metadata": {},
     "outputs": [
      {
       "metadata": {},
       "output_type": "pyout",
       "prompt_number": 9,
       "text": [
        "1x1 SQLite.ResultSet\n",
        "| Row | \"sin(?)\"    |\n",
        "|-----|-------------|\n",
        "| 1   | 1.22465e-16 |"
       ]
      }
     ],
     "prompt_number": 9
    },
    {
     "cell_type": "markdown",
     "metadata": {},
     "source": [
      "The `register` *function* allows you to control the number of arguments and name of your SQLite function and also allows you to specify whether your function is deterministic (non-random) or not. Although these all sound like common problems, in practice they are used infrequently. Julia can perform multiple dispatch from within SQLite so you will only need to control the number of arguments in incredibly rare circumstances."
     ]
    },
    {
     "cell_type": "markdown",
     "metadata": {},
     "source": [
      "Occasionally you may wish to register a function which would overwrite a pre-existing SQLite function or has characters which SQLite does not allow, for this you must use the `name` argument of the `register` function."
     ]
    },
    {
     "cell_type": "code",
     "collapsed": false,
     "input": [
      "# hex is already defined in SQLite\n",
      "register(db, hex, name=\"julia_hex\")\n",
      "# + is a special symbol in SQLite (contrived example I know)\n",
      "register(db, +, name=\"julia_add\")"
     ],
     "language": "python",
     "metadata": {},
     "outputs": [
      {
       "metadata": {},
       "output_type": "pyout",
       "prompt_number": 10,
       "text": [
        "0"
       ]
      }
     ],
     "prompt_number": 10
    },
    {
     "cell_type": "code",
     "collapsed": false,
     "input": [
      "query(db, \"SELECT julia_hex(100)\")"
     ],
     "language": "python",
     "metadata": {},
     "outputs": [
      {
       "metadata": {},
       "output_type": "pyout",
       "prompt_number": 11,
       "text": [
        "1x1 SQLite.ResultSet\n",
        "| Row | \"julia_hex(100)\" |\n",
        "|-----|------------------|\n",
        "| 1   | \"64\"             |"
       ]
      }
     ],
     "prompt_number": 11
    },
    {
     "cell_type": "code",
     "collapsed": false,
     "input": [
      "query(db, \"SELECT julia_add(1,2)\")"
     ],
     "language": "python",
     "metadata": {},
     "outputs": [
      {
       "metadata": {},
       "output_type": "pyout",
       "prompt_number": 12,
       "text": [
        "1x1 SQLite.ResultSet\n",
        "| Row | \"julia_add(1,2)\" |\n",
        "|-----|------------------|\n",
        "| 1   | 3                |"
       ]
      }
     ],
     "prompt_number": 12
    },
    {
     "cell_type": "markdown",
     "metadata": {},
     "source": [
      "The other main use of the `register` function is when you write a function which has an element of randomness to it, i.e. if your function can be called twice with the same arguments and not be guaranteed to return the same result. In these cases the `isdeterm` argument should be set to `false`."
     ]
    },
    {
     "cell_type": "code",
     "collapsed": false,
     "input": [
      "randbyx(x) = x*rand()\n",
      "register(db, randbyx, isdeterm=false)\n",
      "query(db, \"SELECT randbyx(10)\")"
     ],
     "language": "python",
     "metadata": {},
     "outputs": [
      {
       "metadata": {},
       "output_type": "pyout",
       "prompt_number": 13,
       "text": [
        "1x1 SQLite.ResultSet\n",
        "| Row | \"randbyx(10)\" |\n",
        "|-----|---------------|\n",
        "| 1   | 4.18044       |"
       ]
      }
     ],
     "prompt_number": 13
    },
    {
     "cell_type": "heading",
     "level": 3,
     "metadata": {},
     "source": [
      "Controlling Return Values"
     ]
    },
    {
     "cell_type": "markdown",
     "metadata": {},
     "source": [
      "When you register a function with a database SQLite.jl wraps that function such that the return value is passed to a method of `sqlreturn`. Methods are defined for return values of the julia types `NullType`, `Int32`, `Int64`, `Float64`, `UTF16String`, `AbstractString` and `Vector{UInt8}`. Values of these types will be stored in the database as the SQLite types `NULL`, `INT`, `REAL`, `TEXT` and `BLOB` respectively. By default values of any other type will be serialized and also stored as a `BLOB`. However, there will likely be times when you have to return values which are not of one of those types.\n",
      "\n",
      "As an example consider the `regexp` function which was discussed earlier. This function was added to SQLite with three simple lines of code, the first two define the function and register it (the second is actually in the `SQLiteDB` constructor)"
     ]
    },
    {
     "cell_type": "code",
     "collapsed": false,
     "input": [
      "regexp(r, s) = ismatch(Regex(r), s)\n",
      "register(db, regexp)"
     ],
     "language": "python",
     "metadata": {},
     "outputs": [
      {
       "metadata": {},
       "output_type": "pyout",
       "prompt_number": 14,
       "text": [
        "0"
       ]
      }
     ],
     "prompt_number": 14
    },
    {
     "cell_type": "markdown",
     "metadata": {},
     "source": [
      "This function returns a `Bool`, however, and SQLite doesn't understand boolean values so we must define a new method for `sqlreturn`"
     ]
    },
    {
     "cell_type": "code",
     "collapsed": false,
     "input": [
      "sqlreturn(context, val::Bool) = sqlreturn(context, int(val))"
     ],
     "language": "python",
     "metadata": {},
     "outputs": [
      {
       "metadata": {},
       "output_type": "pyout",
       "prompt_number": 15,
       "text": [
        "sqlreturn (generic function with 1 method)"
       ]
      }
     ],
     "prompt_number": 15
    },
    {
     "cell_type": "markdown",
     "metadata": {},
     "source": [
      "and that's all there is to it.\n",
      "\n",
      "Let us examine a clearer (albeit rather contrived) example, say we wish to store a random integer in the range `0:(typemax(Int64)^2)`. Furthermore let's say that, for one reason or another, we wish to be able to view this number from the SQLite CLI. Obviously this number is too big to be stored as an `INT` so instead let's store it as a string. We'll start afresh with a brand new database."
     ]
    },
    {
     "cell_type": "code",
     "collapsed": false,
     "input": [
      "db2 = SQLiteDB()"
     ],
     "language": "python",
     "metadata": {},
     "outputs": [
      {
       "metadata": {},
       "output_type": "pyout",
       "prompt_number": 16,
       "text": [
        "SQLite.SQLiteDB{UTF8String}(\"\",Ptr{Void} @0x00007fdfd6fcfaa0,0)"
       ]
      }
     ],
     "prompt_number": 16
    },
    {
     "cell_type": "markdown",
     "metadata": {},
     "source": [
      "First let's define a function that can perform this task"
     ]
    },
    {
     "cell_type": "code",
     "collapsed": false,
     "input": [
      "randbigint() = BigInt(rand(Int64))^2"
     ],
     "language": "python",
     "metadata": {},
     "outputs": [
      {
       "metadata": {},
       "output_type": "pyout",
       "prompt_number": 17,
       "text": [
        "randbigint (generic function with 1 method)"
       ]
      }
     ],
     "prompt_number": 17
    },
    {
     "cell_type": "markdown",
     "metadata": {},
     "source": [
      "Currently calling this function will return the serialized value as a `BLOB` but we want it to be stored as a string so we must define a new method for `sqlreturn`"
     ]
    },
    {
     "cell_type": "code",
     "collapsed": false,
     "input": [
      "sqlreturn(context, val::BigInt) = sqlreturn(context, string(val))"
     ],
     "language": "python",
     "metadata": {},
     "outputs": [
      {
       "metadata": {},
       "output_type": "pyout",
       "prompt_number": 18,
       "text": [
        "sqlreturn (generic function with 2 methods)"
       ]
      }
     ],
     "prompt_number": 18
    },
    {
     "cell_type": "markdown",
     "metadata": {},
     "source": [
      "Let's register it and test it out"
     ]
    },
    {
     "cell_type": "code",
     "collapsed": false,
     "input": [
      "register(db2, randbigint, isdeterm=false)\n",
      "query(db2, \"CREATE TABLE temp (s TEXT)\")\n",
      "for i in 1:10\n",
      "    query(db2, \"INSERT INTO temp VALUES (randbigint())\")\n",
      "end\n",
      "query(db2, \"SELECT * FROM temp\")"
     ],
     "language": "python",
     "metadata": {},
     "outputs": [
      {
       "metadata": {},
       "output_type": "pyout",
       "prompt_number": 19,
       "text": [
        "10x1 SQLite.ResultSet\n",
        "| Row | \"s\"                                    |\n",
        "|-----|----------------------------------------|\n",
        "| 1   | 16914273358682986069534392790761959025 |\n",
        "| 2   | 2177144095361122934760706725985402500  |\n",
        "| 3   | 1462653366547083758527015015361894464  |\n",
        "| 4   | 29322422906240589850767270381258217401 |\n",
        "| 5   | 3817838298492726223001830368892334089  |\n",
        "| 6   | 61289924450295032312723255698922188089 |\n",
        "| 7   | 7341699096498621864759295283153233636  |\n",
        "| 8   | 340434476739165410066975720779801600   |\n",
        "| 9   | 32600235247774020202613897055391026201 |\n",
        "| 10  | 7534125384670750441037465010472627600  |"
       ]
      }
     ],
     "prompt_number": 19
    },
    {
     "cell_type": "markdown",
     "metadata": {},
     "source": [
      "`sqlreturn` methods can be as long as they like but they must eventually convert their `val` argument to one of the types listed in the first paragraph and then call `sqlreturn` on that value."
     ]
    },
    {
     "cell_type": "heading",
     "level": 2,
     "metadata": {},
     "source": [
      "Aggregate Functions"
     ]
    },
    {
     "cell_type": "markdown",
     "metadata": {},
     "source": [
      "As mentioned in the previous section an aggregate function is a function which is called once for each row and then finally once all rows have been called. This is implemented as a \"step\" function and a \"final\" function ([the website](http://sqlite.org/c3ref/create_function.html) has more details), where the \"step\" function takes an additional 1st argument which is the return value of the previous invocation. An example might help here."
     ]
    },
    {
     "cell_type": "code",
     "collapsed": false,
     "input": [
      "function stepex(prev, curr, arg)\n",
      "    println(\"Previous return value: $prev\\tCurrent value: $curr\\tExtra argument: $arg\\n\")\n",
      "    return string(curr, arg)\n",
      "end\n",
      "\n",
      "function finalex(fin)\n",
      "    println(\"Final previous return value: $fin\")\n",
      "    return \"random string\"\n",
      "end\n",
      "\n",
      "register(db, \"Initial string.\", stepex, finalex, name=\"example\")\n",
      "query(db, \"SELECT example(FirstName, ' randomarg') FROM Employee\")"
     ],
     "language": "python",
     "metadata": {},
     "outputs": [
      {
       "output_type": "stream",
       "stream": "stdout",
       "text": [
        "Previous return value: Initial string.\tCurrent value: Andrew\tExtra argument:  randomarg\n",
        "\n"
       ]
      },
      {
       "output_type": "stream",
       "stream": "stdout",
       "text": [
        "Previous return value: Andrew randomarg\tCurrent value: Nancy\tExtra argument:  randomarg\n",
        "\n",
        "Previous return value: Nancy randomarg\tCurrent value: Jane\tExtra argument:  randomarg\n",
        "\n",
        "Previous return value: Jane randomarg\tCurrent value: Margaret\tExtra argument:  randomarg\n",
        "\n",
        "Previous return value: Margaret randomarg\tCurrent value: Steve\tExtra argument:  randomarg\n",
        "\n",
        "Previous return value: Steve randomarg\tCurrent value: Michael\tExtra argument:  randomarg\n",
        "\n",
        "Previous return value: Michael randomarg\tCurrent value: Robert\tExtra argument:  randomarg\n",
        "\n",
        "Previous return value: Robert randomarg\tCurrent value: Laura\tExtra argument:  randomarg\n",
        "\n",
        "Final previous return value: Laura randomarg\n"
       ]
      },
      {
       "metadata": {},
       "output_type": "pyout",
       "prompt_number": 24,
       "text": [
        "1x1 SQLite.ResultSet\n",
        "| Row | \"example(FirstName, ' randomarg')\" |\n",
        "|-----|------------------------------------|\n",
        "| 1   | \"random string\"                    |"
       ]
      }
     ],
     "prompt_number": 24
    },
    {
     "cell_type": "markdown",
     "metadata": {},
     "source": [
      "The \"final\" function defaults to `identity` and the name defaults to the name of the \"step\" function so we could implement a sum function like this."
     ]
    },
    {
     "cell_type": "code",
     "collapsed": false,
     "input": [
      "mysum(prev, curr) = prev + curr\n",
      "register(db, 0, mysum)\n",
      "println(query(db, \"SELECT sum(Milliseconds) FROM Track\"))\n",
      "println(query(db, \"SELECT mysum(Milliseconds) FROM Track\"))"
     ],
     "language": "python",
     "metadata": {},
     "outputs": [
      {
       "output_type": "stream",
       "stream": "stdout",
       "text": [
        "1x1 SQLite.ResultSet\n"
       ]
      },
      {
       "output_type": "stream",
       "stream": "stdout",
       "text": [
        "| Row | \"sum(Milliseconds)\" |\n",
        "|-----|---------------------|\n",
        "| 1   | 1378778040          |\n",
        "1x1 SQLite.ResultSet\n",
        "| Row | \"mysum(Milliseconds)\" |\n",
        "|-----|-----------------------|\n",
        "| 1   | 1378778040            |\n"
       ]
      }
     ],
     "prompt_number": 25
    }
   ],
   "metadata": {}
  }
 ]
}